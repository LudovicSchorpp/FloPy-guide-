{
 "cells": [
  {
   "cell_type": "markdown",
   "metadata": {},
   "source": [
    "# This notebook guide provides simples and relatively exhaustives examples of the capabilites of MODPATH 7 with MODFLOW 6"
   ]
  },
  {
   "cell_type": "code",
   "execution_count": 1,
   "metadata": {},
   "outputs": [],
   "source": [
    "import flopy as fp\n",
    "from flopy.utils import GridIntersect\n",
    "import numpy as np\n",
    "import pandas as pd\n",
    "import matplotlib.pyplot as plt\n",
    "%matplotlib qt\n",
    "import os"
   ]
  },
  {
   "cell_type": "code",
   "execution_count": 2,
   "metadata": {},
   "outputs": [],
   "source": [
    "# function that return the node number from the layer,row and coloumn index\n",
    "def ikj2nn(node):\n",
    "    return node[0]*nrow*ncol + node[1]*ncol + node[2]"
   ]
  },
  {
   "cell_type": "code",
   "execution_count": 3,
   "metadata": {},
   "outputs": [],
   "source": [
    "mpexe = \"../../../../exe/mp7.exe\"\n",
    "mfexe = \"../../../../exe/mf6.exe\"\n",
    "m_name = \"mp_sim\"\n",
    "ws = \"workspace\""
   ]
  },
  {
   "cell_type": "markdown",
   "metadata": {},
   "source": [
    "## MODFLOW MODEL"
   ]
  },
  {
   "cell_type": "code",
   "execution_count": 4,
   "metadata": {},
   "outputs": [],
   "source": [
    "# dis\n",
    "nlay = 3\n",
    "nrow = 30\n",
    "ncol = 30\n",
    "Lx = 100\n",
    "Ly = 100\n",
    "delc = Ly/nrow\n",
    "delr = Lx/ncol\n",
    "botm = [5,4,0]\n",
    "top = 10\n",
    "\n",
    "# parameters\n",
    "\n",
    "kh = np.array([1e-3,1e-5,1e-4])\n",
    "kv = kh/3\n",
    "\n",
    "# tdis\n",
    "nper = 1\n",
    "p_d = (1,1.,1.)\n",
    "\n",
    "## BC\n",
    "riv1_spd = [((0,ir,0),10) for ir in range(nrow)]\n",
    "riv2_spd = [((0,ir,ncol-1),7) for ir in range(nrow)]\n",
    "\n",
    "loc_w = (2,15,15)\n",
    "wel_spd = [(loc_w,-0.0055)]\n",
    "\n",
    "# packages\n",
    "sim = fp.mf6.MFSimulation(sim_name=m_name, exe_name=mfexe,version='mf6', sim_ws=ws)\n",
    "tdis = fp.mf6.modflow.mftdis.ModflowTdis(sim, pname='tdis',time_units='DAYS', nper=nper,perioddata=[p_d])\n",
    "gwf = fp.mf6.ModflowGwf(sim, modelname=m_name,model_nam_file=m_name+\".nam\", save_flows=True)\n",
    "ims = fp.mf6.modflow.mfims.ModflowIms(sim,complexity=\"SIMPLE\")\n",
    "dis = fp.mf6.ModflowGwfdis(gwf,pname='dis', nlay=nlay,nrow=nrow, ncol=ncol,length_units='METERS',\n",
    "                           delr=delr, delc=delc,top=top,botm=botm)\n",
    "ic = fp.mf6.modflow.mfgwfic.ModflowGwfic(gwf, pname='ic', strt=top)\n",
    "npf = fp.mf6.modflow.mfgwfnpf.ModflowGwfnpf(gwf, pname='npf',icelltype=[1,0,0], k=kh,k33=kv)\n",
    "rch = fp.mf6.ModflowGwfrcha(gwf,recharge=700/1000/365/86400,save_flows=True)\n",
    "wel = fp.mf6.ModflowGwfwel(gwf,pname=\"puits\",maxbound=1,stress_period_data=wel_spd,save_flows=True)\n",
    "riv1 = fp.mf6.ModflowGwfchd(gwf,pname=\"riv1\",filename=\"riv1.chd\",maxbound=len(riv1_spd),stress_period_data=riv1_spd)\n",
    "riv2 = fp.mf6.ModflowGwfchd(gwf,pname=\"riv2\",filename=\"riv2.chd\",maxbound=len(riv2_spd),stress_period_data=riv2_spd)\n",
    "\n",
    "# Create the output control package\n",
    "oc = fp.mf6.modflow.mfgwfoc.ModflowGwfoc(gwf, pname='oc',\n",
    "                                            saverecord=[('HEAD', 'ALL'),('BUDGET', 'ALL')],\n",
    "                                            head_filerecord='{}.hds'.format(m_name),\n",
    "                                            budget_filerecord='{}.cbc'.format(m_name))"
   ]
  },
  {
   "cell_type": "code",
   "execution_count": 5,
   "metadata": {},
   "outputs": [
    {
     "data": {
      "text/plain": [
       "(True, [])"
      ]
     },
     "execution_count": 5,
     "metadata": {},
     "output_type": "execute_result"
    }
   ],
   "source": [
    "sim.write_simulation(silent=True)\n",
    "sim.run_simulation(silent=True)"
   ]
  },
  {
   "cell_type": "markdown",
   "metadata": {},
   "source": [
    "## MODPATH MODEL DATA"
   ]
  },
  {
   "cell_type": "markdown",
   "metadata": {},
   "source": [
    "### First we need to define some things as zones and particle Groups\n",
    "\n",
    "When creating particle groups we can define some parameters :\n",
    "- **drape** : to decide what happen to a particle if it begins in a dry cell, 0 : remove, 1 : put in the uppermost active cell beneath the starting cell\n",
    "- **localx/localy/localz** : to define the position inside the cell of the particles at the start of the simulation (0.5 means in the middle of the x,y or z axis, localz = 1 means the particle will be drop at the top of the cell)"
   ]
  },
  {
   "cell_type": "markdown",
   "metadata": {},
   "source": [
    "With Modpath there's plenty different maners to instantiate particles. Some of them are presented just below :\n",
    "   - 1 particle in each specified node (pg1)\n",
    "   - multiples particles in a (or more) specific node (pg2)\n",
    "   - Particles added by regions where the minimum layer, row and column as maximum must be provided\n",
    "\n",
    "Broadly speaking, multiple particles can always be added in a cell and can be set anywhere in it with localx/localy/localz parameters. See doc for further explanations."
   ]
  },
  {
   "cell_type": "code",
   "execution_count": 6,
   "metadata": {},
   "outputs": [],
   "source": [
    "# MODPATH zones, this can be useful as a condition to stop the particles\n",
    "zone_btm = np.ones((nrow, ncol))\n",
    "zone_btm[loc_w[1:]] = 2\n",
    "zones = [1, 1, zone_btm]\n",
    "\n",
    "# Particles\n",
    "\n",
    "# group 1, particles released at the left of the model in each layer\n",
    "part_locs = []\n",
    "part_ids = []\n",
    "idx = 0\n",
    "for ilay in range(nlay):\n",
    "    for irow in range(nrow):\n",
    "        idx += 1\n",
    "        part_locs.append((ilay, irow, 1))\n",
    "        part_ids.append(idx)\n",
    "p_data1 = fp.modpath.ParticleData(part_locs, drape=0, structured=True, particleids=part_ids)\n",
    "pg1 = fp.modpath.ParticleGroup(particlegroupname='PG1', particledata=p_data1,\n",
    "                                  filename='ex01a.pg1.sloc')\n",
    "\n",
    "# group 2, plenty of particles in the well :)\n",
    "cd = fp.modpath.CellDataType(0,4,4,4)\n",
    "Node_data = fp.modpath.NodeParticleData(cd,nodes = ikj2nn(loc_w))\n",
    "pg2 = fp.modpath.ParticleGroupNodeTemplate(particlegroupname='PG2', particledata=Node_data,\n",
    "                                  filename='ex01a.pg2.sloc')\n",
    "\n",
    "\n",
    "# group 3, a particle in each cell of top layer ! be careful, it's a lot of particles and the simulation will take a certain amount of time\n",
    "locsa = [[0, 0, 0, 0, nrow - 1, ncol - 1]]  # location for particles (minlay,minrow,mincol,maxlay,maxrow,maxcol)        \n",
    "sd = fp.modpath.CellDataType(drape=0, columncelldivisions=1,\n",
    "                                rowcelldivisions=1, layercelldivisions=1)\n",
    "p = fp.modpath.LRCParticleData(subdivisiondata=sd,lrcregions=[locsa])\n",
    "pg3 = fp.modpath.ParticleGroupLRCTemplate(particlegroupname='PG3',\n",
    "                                                particledata=p,\n",
    "                                                filename='ex01a.pg3.sloc')\n",
    "\n",
    "# iface for MODFLOW 6\n",
    "iface6 = {'RCH': 6, 'EVT': 6} \n",
    "# en gros pour dire la face de la cellule par laquelle le stress package doit agir (6 pour vers le haut)"
   ]
  },
  {
   "cell_type": "code",
   "execution_count": null,
   "metadata": {},
   "outputs": [],
   "source": []
  },
  {
   "cell_type": "markdown",
   "metadata": {},
   "source": [
    "## Modpath parameter simulation\n",
    "\n",
    "Modpath needs 2 files to work properly : Basic and simulation files. First of all, a model must be instantiate with flopy with **Modpath7** method\n",
    "\n",
    "Basic file contains infos about the porosity, cells that are constant, dry, etc. and also the default iface for stress package.\n",
    "\n",
    "#### With flopy, Basic file is created using Modpath7Bas method\n"
   ]
  },
  {
   "cell_type": "code",
   "execution_count": 7,
   "metadata": {},
   "outputs": [],
   "source": [
    "# create modpath files\n",
    "exe_name = mpexe\n",
    "mp = fp.modpath.Modpath7(modelname=m_name + '_mp', flowmodel=gwf,\n",
    "                            exe_name=exe_name, model_ws=ws)\n",
    "mpbas = fp.modpath.Modpath7Bas(mp, porosity=0.1,\n",
    "                                  defaultiface=iface6)"
   ]
  },
  {
   "cell_type": "markdown",
   "metadata": {},
   "source": [
    "### Simulation file\n",
    "\n",
    "Is created with **Modpath7Sim** method and have MANYMANYMANY of parameters :\n",
    "- **simulationtype** : Which type of simulation --> endpoint(only start and end data are recorded), pathline (every coordinates are recorded, timeseries (record only at time specified) and combined (all) \n",
    "- **trackingdirection** : forward or backward simulation\n",
    "- **weaksinkoption & weaksourceoption** : to decide if a particle pass or not a certain weak source/sink (a cell assign as BC but let some flows pass through it (for example a cell where 1/2 of the flow goes into a well and the oterh 1/2 goes to another cell))\n",
    "- **Budgetoutputoption** : How to print budget output results (I don't really know what this implies now)\n",
    "- **budgetcellnumbers** : to specify cells for which detailed water budgets are computed\n",
    "- **traceparticledata** : idk\n",
    "- **referencetime** : start time for particles, can be set at a specific Stress period and time step (check documentation)\n",
    "- **stoptimeoption** : how to stop particle tracking is stop : total --> stop at the end of the final time step, extend --> all particles tracked until they reach a termination location, specified --> tracked until particles reach a termination location OR reach the specified stop time \n",
    "- **stoptime** : only if stoptimeoption is specified, at which time stop particles\n",
    "- **timepointdata** : only if sim is combined or time-series, list of 2 numbers : 1st is the number of interval and 2nd (float) is the interval between two time points (time will be stored each interval of this time)\n",
    "- **zonedataoption** : (on or off) use zone to specify if you want that some particles stops when they reach a specific zone\n",
    "- **stopzone** : goes with zonedataoption, zero based integer, -1 : no stop, 1,2 or greater to specify to stop in zone 1,2 or greater\n",
    "- **zones** : array to indicate zones\n",
    "- **retardationfactoroption** : to use the retardation factor or not\n",
    "- **retardation** : array of domain size to determine the retardation factor in each cells\n",
    "- **particlegroups** : particleGroup object (or list of them) with all the data for the particle tracking"
   ]
  },
  {
   "cell_type": "code",
   "execution_count": 8,
   "metadata": {},
   "outputs": [],
   "source": [
    "mpsim = fp.modpath.Modpath7Sim(mp, simulationtype='combined',\n",
    "                                  trackingdirection='forward',\n",
    "                                  weaksinkoption='pass_through',\n",
    "                                  weaksourceoption='pass_through',\n",
    "                                  budgetoutputoption='summary',\n",
    "                                  budgetcellnumbers=[1049, 1259],\n",
    "                                  traceparticledata=[1, 1000],\n",
    "                                  referencetime=[0, 0, 0.],\n",
    "                                  stoptimeoption='extend',\n",
    "                                  timepointdata=[500, 3600.],\n",
    "                                  zonedataoption='on', zones=zones,\n",
    "                                  particlegroups=[pg3])"
   ]
  },
  {
   "cell_type": "code",
   "execution_count": 9,
   "metadata": {},
   "outputs": [
    {
     "name": "stdout",
     "output_type": "stream",
     "text": [
      "FloPy is using the following  executable to run the model: ../../../../exe/mp7.exe\n",
      "\n",
      "MODPATH Version 7.2.001   \n",
      "Program compiled Mar 21 2019 15:41:25 with IFORT compiler (ver. 19.0.0)         \n",
      " \n",
      " \n",
      "Run particle tracking simulation ...\n",
      "Processing Time Step     1 Period     1.  Time =  1.00000E+00  Steady-state flow                                                    \n",
      "\n",
      "Particle Summary:\n",
      "         0 particles are pending release.\n",
      "         0 particles remain active.\n",
      "         0 particles terminated at boundary faces.\n",
      "         0 particles terminated at weak sink cells.\n",
      "         0 particles terminated at weak source cells.\n",
      "       900 particles terminated at strong source/sink cells.\n",
      "         0 particles terminated in cells with a specified zone number.\n",
      "         0 particles were stranded in inactive or dry cells.\n",
      "         0 particles were unreleased.\n",
      "         0 particles have an unknown status.\n",
      " \n",
      "Normal termination.                                                        \n"
     ]
    },
    {
     "data": {
      "text/plain": [
       "(True, [])"
      ]
     },
     "execution_count": 9,
     "metadata": {},
     "output_type": "execute_result"
    }
   ],
   "source": [
    "# write modpath datasets\n",
    "mp.write_input()\n",
    "\n",
    "# run modpath\n",
    "mp.run_model()"
   ]
  },
  {
   "cell_type": "markdown",
   "metadata": {},
   "source": [
    "## Check results\n",
    "\n",
    "First we need to have the cell numbers where the particles stop (well and rivers)"
   ]
  },
  {
   "cell_type": "code",
   "execution_count": 10,
   "metadata": {},
   "outputs": [],
   "source": [
    "node_well = ikj2nn(loc_w)\n",
    "node_riv1 = [ikj2nn(i) for i in riv1.stress_period_data.array[0].cellid]\n",
    "node_riv2 = [ikj2nn(i) for i in riv2.stress_period_data.array[0].cellid]"
   ]
  },
  {
   "cell_type": "markdown",
   "metadata": {},
   "source": [
    "### Retrieve Pathlines data\n",
    "\n",
    "Pathlines are stored in the _mp.mppth file"
   ]
  },
  {
   "cell_type": "code",
   "execution_count": 11,
   "metadata": {},
   "outputs": [],
   "source": [
    "fpth = os.path.join(ws, m_name + '_mp.mppth')\n",
    "mp_file = fp.utils.PathlineFile(fpth)\n",
    "pw = mp_file.get_destination_pathline_data(node_well)\n",
    "pr = mp_file.get_destination_pathline_data(node_riv2)"
   ]
  },
  {
   "cell_type": "code",
   "execution_count": 12,
   "metadata": {
    "scrolled": false
   },
   "outputs": [],
   "source": [
    "import matplotlib.pyplot as plt\n",
    "from mpl_toolkits.mplot3d import Axes3D\n",
    "\n",
    "fig = plt.figure(figsize=(12,7))\n",
    "ax = fig.gca(projection='3d')\n",
    "\n",
    "p = pw\n",
    "\n",
    "for i in range(len(p)):\n",
    "    ax.plot(p[i].x,p[i].y,p[i].z)\n"
   ]
  },
  {
   "cell_type": "markdown",
   "metadata": {},
   "source": [
    "### Endpoint data"
   ]
  },
  {
   "cell_type": "code",
   "execution_count": 13,
   "metadata": {},
   "outputs": [],
   "source": [
    "fpth = os.path.join(ws, m_name + '_mp.mpend')\n",
    "e = fp.utils.EndpointFile(fpth)\n",
    "\n",
    "w_endp = e.get_destination_endpoint_data(dest_cells=node_well)\n",
    "w_endp.time = w_endp.time / 86400\n",
    "riv_endp = e.get_destination_endpoint_data(dest_cells=node_riv2)\n",
    "epd_all = np.concatenate((w_endp,riv_endp))"
   ]
  },
  {
   "cell_type": "code",
   "execution_count": 14,
   "metadata": {},
   "outputs": [
    {
     "name": "stderr",
     "output_type": "stream",
     "text": [
      "No handles with labels found to put in legend.\n"
     ]
    }
   ],
   "source": [
    "mm = fp.plot.PlotMapView(model=gwf,layer=0)\n",
    "mm.plot_grid(lw=0.5)\n",
    "# mm.plot_pathline(pw,color='red', label='went in wells')\n",
    "# mm.plot_pathline(pr,  color='blue', label='went in rivers')\n",
    "mm.plot_endpoint(w_endp, direction='starting', colorbar=True)\n",
    "mm.ax.legend();"
   ]
  },
  {
   "cell_type": "code",
   "execution_count": 15,
   "metadata": {},
   "outputs": [
    {
     "data": {
      "text/plain": [
       "<matplotlib.collections.PathCollection at 0x1d3a39f6370>"
      ]
     },
     "execution_count": 15,
     "metadata": {},
     "output_type": "execute_result"
    }
   ],
   "source": [
    "a = pd.DataFrame(w_endp)\n",
    "a = a[a[\"time\"] < 5]\n",
    "plt.scatter(a.x0,a.y0,c=a.time)"
   ]
  },
  {
   "cell_type": "code",
   "execution_count": 20,
   "metadata": {
    "scrolled": true
   },
   "outputs": [
    {
     "ename": "ImportError",
     "evalue": "__init__: error importing shapefile; try pip install pyshp",
     "output_type": "error",
     "traceback": [
      "\u001b[1;31m---------------------------------------------------------------------------\u001b[0m",
      "\u001b[1;31mModuleNotFoundError\u001b[0m                       Traceback (most recent call last)",
      "\u001b[1;32m~\\Anaconda3\\lib\\site-packages\\flopy\\export\\shapefile_utils.py\u001b[0m in \u001b[0;36mimport_shapefile\u001b[1;34m(check_version)\u001b[0m\n\u001b[0;32m     39\u001b[0m     \u001b[1;32mtry\u001b[0m\u001b[1;33m:\u001b[0m\u001b[1;33m\u001b[0m\u001b[1;33m\u001b[0m\u001b[0m\n\u001b[1;32m---> 40\u001b[1;33m         \u001b[1;32mimport\u001b[0m \u001b[0mshapefile\u001b[0m\u001b[1;33m\u001b[0m\u001b[1;33m\u001b[0m\u001b[0m\n\u001b[0m\u001b[0;32m     41\u001b[0m     \u001b[1;32mexcept\u001b[0m \u001b[0mImportError\u001b[0m\u001b[1;33m:\u001b[0m\u001b[1;33m\u001b[0m\u001b[1;33m\u001b[0m\u001b[0m\n",
      "\u001b[1;31mModuleNotFoundError\u001b[0m: No module named 'shapefile'",
      "\nDuring handling of the above exception, another exception occurred:\n",
      "\u001b[1;31mImportError\u001b[0m                               Traceback (most recent call last)",
      "\u001b[1;32m<ipython-input-20-43da2520b854>\u001b[0m in \u001b[0;36m<module>\u001b[1;34m\u001b[0m\n\u001b[0;32m      1\u001b[0m \u001b[0mgrid\u001b[0m \u001b[1;33m=\u001b[0m \u001b[0mgwf\u001b[0m\u001b[1;33m.\u001b[0m\u001b[0mmodelgrid\u001b[0m\u001b[1;33m\u001b[0m\u001b[1;33m\u001b[0m\u001b[0m\n\u001b[0;32m      2\u001b[0m \u001b[0mix\u001b[0m \u001b[1;33m=\u001b[0m \u001b[0mGridIntersect\u001b[0m\u001b[1;33m(\u001b[0m\u001b[0mgrid\u001b[0m\u001b[1;33m)\u001b[0m\u001b[1;33m\u001b[0m\u001b[1;33m\u001b[0m\u001b[0m\n\u001b[1;32m----> 3\u001b[1;33m \u001b[0mix\u001b[0m\u001b[1;33m.\u001b[0m\u001b[0mintersects\u001b[0m\u001b[1;33m(\u001b[0m\u001b[1;33m(\u001b[0m\u001b[1;36m10\u001b[0m\u001b[1;33m,\u001b[0m\u001b[1;36m10\u001b[0m\u001b[1;33m)\u001b[0m\u001b[1;33m)\u001b[0m\u001b[1;33m\u001b[0m\u001b[1;33m\u001b[0m\u001b[0m\n\u001b[0m",
      "\u001b[1;32m~\\Anaconda3\\lib\\site-packages\\flopy\\utils\\gridintersect.py\u001b[0m in \u001b[0;36mintersects\u001b[1;34m(self, shp)\u001b[0m\n\u001b[0;32m    621\u001b[0m         \"\"\"\n\u001b[0;32m    622\u001b[0m         \u001b[1;31m# query grid\u001b[0m\u001b[1;33m\u001b[0m\u001b[1;33m\u001b[0m\u001b[1;33m\u001b[0m\u001b[0m\n\u001b[1;32m--> 623\u001b[1;33m         \u001b[0mshp\u001b[0m \u001b[1;33m=\u001b[0m \u001b[0mGeoSpatialUtil\u001b[0m\u001b[1;33m(\u001b[0m\u001b[0mshp\u001b[0m\u001b[1;33m)\u001b[0m\u001b[1;33m.\u001b[0m\u001b[0mshapely\u001b[0m\u001b[1;33m\u001b[0m\u001b[1;33m\u001b[0m\u001b[0m\n\u001b[0m\u001b[0;32m    624\u001b[0m \u001b[1;33m\u001b[0m\u001b[0m\n\u001b[0;32m    625\u001b[0m         \u001b[0mqresult\u001b[0m \u001b[1;33m=\u001b[0m \u001b[0mself\u001b[0m\u001b[1;33m.\u001b[0m\u001b[0mquery_grid\u001b[0m\u001b[1;33m(\u001b[0m\u001b[0mshp\u001b[0m\u001b[1;33m)\u001b[0m\u001b[1;33m\u001b[0m\u001b[1;33m\u001b[0m\u001b[0m\n",
      "\u001b[1;32m~\\Anaconda3\\lib\\site-packages\\flopy\\utils\\geospatial_utils.py\u001b[0m in \u001b[0;36m__init__\u001b[1;34m(self, obj, shapetype)\u001b[0m\n\u001b[0;32m     65\u001b[0m         \u001b[1;32mfrom\u001b[0m \u001b[1;33m.\u001b[0m\u001b[1;33m.\u001b[0m\u001b[0mexport\u001b[0m\u001b[1;33m.\u001b[0m\u001b[0mshapefile_utils\u001b[0m \u001b[1;32mimport\u001b[0m \u001b[0mimport_shapefile\u001b[0m\u001b[1;33m\u001b[0m\u001b[1;33m\u001b[0m\u001b[0m\n\u001b[0;32m     66\u001b[0m \u001b[1;33m\u001b[0m\u001b[0m\n\u001b[1;32m---> 67\u001b[1;33m         \u001b[0mself\u001b[0m\u001b[1;33m.\u001b[0m\u001b[0m__shapefile\u001b[0m \u001b[1;33m=\u001b[0m \u001b[0mimport_shapefile\u001b[0m\u001b[1;33m(\u001b[0m\u001b[1;33m)\u001b[0m\u001b[1;33m\u001b[0m\u001b[1;33m\u001b[0m\u001b[0m\n\u001b[0m\u001b[0;32m     68\u001b[0m         \u001b[0mself\u001b[0m\u001b[1;33m.\u001b[0m\u001b[0m__obj\u001b[0m \u001b[1;33m=\u001b[0m \u001b[0mobj\u001b[0m\u001b[1;33m\u001b[0m\u001b[1;33m\u001b[0m\u001b[0m\n\u001b[0;32m     69\u001b[0m         \u001b[0mself\u001b[0m\u001b[1;33m.\u001b[0m\u001b[0m__geo_interface\u001b[0m \u001b[1;33m=\u001b[0m \u001b[1;33m{\u001b[0m\u001b[1;33m}\u001b[0m\u001b[1;33m\u001b[0m\u001b[1;33m\u001b[0m\u001b[0m\n",
      "\u001b[1;32m~\\Anaconda3\\lib\\site-packages\\flopy\\export\\shapefile_utils.py\u001b[0m in \u001b[0;36mimport_shapefile\u001b[1;34m(check_version)\u001b[0m\n\u001b[0;32m     40\u001b[0m         \u001b[1;32mimport\u001b[0m \u001b[0mshapefile\u001b[0m\u001b[1;33m\u001b[0m\u001b[1;33m\u001b[0m\u001b[0m\n\u001b[0;32m     41\u001b[0m     \u001b[1;32mexcept\u001b[0m \u001b[0mImportError\u001b[0m\u001b[1;33m:\u001b[0m\u001b[1;33m\u001b[0m\u001b[1;33m\u001b[0m\u001b[0m\n\u001b[1;32m---> 42\u001b[1;33m         raise ImportError(\n\u001b[0m\u001b[0;32m     43\u001b[0m             \u001b[0minspect\u001b[0m\u001b[1;33m.\u001b[0m\u001b[0mgetouterframes\u001b[0m\u001b[1;33m(\u001b[0m\u001b[0minspect\u001b[0m\u001b[1;33m.\u001b[0m\u001b[0mcurrentframe\u001b[0m\u001b[1;33m(\u001b[0m\u001b[1;33m)\u001b[0m\u001b[1;33m)\u001b[0m\u001b[1;33m[\u001b[0m\u001b[1;36m1\u001b[0m\u001b[1;33m]\u001b[0m\u001b[1;33m[\u001b[0m\u001b[1;36m3\u001b[0m\u001b[1;33m]\u001b[0m\u001b[1;33m\u001b[0m\u001b[1;33m\u001b[0m\u001b[0m\n\u001b[0;32m     44\u001b[0m             \u001b[1;33m+\u001b[0m \u001b[1;34m\": error importing shapefile; try pip install pyshp\"\u001b[0m\u001b[1;33m\u001b[0m\u001b[1;33m\u001b[0m\u001b[0m\n",
      "\u001b[1;31mImportError\u001b[0m: __init__: error importing shapefile; try pip install pyshp"
     ]
    }
   ],
   "source": [
    "grid = gwf.modelgrid\n",
    "ix = GridIntersect(grid)\n",
    "ix.intersects((10,10))"
   ]
  },
  {
   "cell_type": "code",
   "execution_count": null,
   "metadata": {},
   "outputs": [],
   "source": []
  },
  {
   "cell_type": "markdown",
   "metadata": {},
   "source": [
    "### TimeSeries"
   ]
  },
  {
   "cell_type": "code",
   "execution_count": 15,
   "metadata": {},
   "outputs": [],
   "source": [
    "fpth = os.path.join(ws, m_name + '_mp.timeseries')\n",
    "ts = fp.utils.TimeseriesFile(fpth)"
   ]
  },
  {
   "cell_type": "code",
   "execution_count": 16,
   "metadata": {},
   "outputs": [],
   "source": [
    "fig = plt.figure(figsize=(12,7))\n",
    "ax = fig.gca(projection='3d')\n",
    "\n",
    "\n",
    "for i in range(89):\n",
    "    data = ts.get_data(i)\n",
    "    data = data[::3]\n",
    "    g = ax.scatter(data.x,data.y,data.z,c=data.time/86400,vmax=15,s=10)\n",
    "\n",
    "cg = plt.colorbar(g)\n",
    "cg.set_label(\"Time (days)\")"
   ]
  },
  {
   "cell_type": "markdown",
   "metadata": {},
   "source": [
    "## Backward tracking (to do)"
   ]
  },
  {
   "cell_type": "code",
   "execution_count": 38,
   "metadata": {},
   "outputs": [],
   "source": [
    "mp = fp.modpath.Modpath7(modelname=m_name + '_backward', flowmodel=gwf,\n",
    "                            exe_name=exe_name, model_ws=ws)\n",
    "mpsim = fp.modpath.Modpath7Sim(mp, simulationtype='combined',\n",
    "                                  trackingdirection='backward',\n",
    "                                  weaksinkoption='pass_through',\n",
    "                                  weaksourceoption='pass_through',\n",
    "                                  referencetime=[0, 0, 0.],\n",
    "                                  stoptimeoption='specified',\n",
    "                                   stoptime=10*86400,\n",
    "                                  timepointdata=[100, 86400.],\n",
    "                                  zonedataoption='on', zones=zones,\n",
    "                                  particlegroups=[pg2])"
   ]
  },
  {
   "cell_type": "code",
   "execution_count": 39,
   "metadata": {},
   "outputs": [
    {
     "name": "stdout",
     "output_type": "stream",
     "text": [
      "FloPy is using the following  executable to run the model: ../../../../exe/mp7.exe\n",
      "\n",
      "MODPATH Version 7.2.001   \n",
      "Program compiled Mar 21 2019 15:41:25 with IFORT compiler (ver. 19.0.0)         \n",
      " \n",
      " \n",
      "Run particle tracking simulation ...\n",
      "Processing Time Step     1 Period     1.  Time =  1.00000E+00  Steady-state flow                                                    \n",
      "\n",
      "Particle Summary:\n",
      "         0 particles are pending release.\n",
      "         0 particles remain active.\n",
      "         0 particles terminated at boundary faces.\n",
      "         0 particles terminated at weak sink cells.\n",
      "         0 particles terminated at weak source cells.\n",
      "        64 particles terminated at strong source/sink cells.\n",
      "         0 particles terminated in cells with a specified zone number.\n",
      "         0 particles were stranded in inactive or dry cells.\n",
      "         0 particles were unreleased.\n",
      "         0 particles have an unknown status.\n",
      " \n",
      "Normal termination.                                                        \n"
     ]
    },
    {
     "data": {
      "text/plain": [
       "(True, [])"
      ]
     },
     "execution_count": 39,
     "metadata": {},
     "output_type": "execute_result"
    }
   ],
   "source": [
    "# write modpath datasets\n",
    "mp.write_input()\n",
    "# run modpath\n",
    "mp.run_model()"
   ]
  },
  {
   "cell_type": "code",
   "execution_count": 40,
   "metadata": {},
   "outputs": [],
   "source": [
    "fpth = os.path.join(ws, m_name + '_mp.mppth')\n",
    "mp_file = fp.utils.PathlineFile(fpth)\n",
    "pwb = mp_file.get_destination_pathline_data(dest_cells=node_well)\n",
    "prb = mp_file.get_destination_pathline_data(dest_cells=node_riv1)"
   ]
  },
  {
   "cell_type": "code",
   "execution_count": 79,
   "metadata": {},
   "outputs": [
    {
     "data": {
      "text/plain": [
       "(0.0, 100.0)"
      ]
     },
     "execution_count": 79,
     "metadata": {},
     "output_type": "execute_result"
    }
   ],
   "source": [
    "import matplotlib.pyplot as plt\n",
    "from mpl_toolkits.mplot3d import Axes3D\n",
    "from mpl_toolkits.mplot3d.art3d import Poly3DCollection\n",
    "\n",
    "fig = plt.figure(figsize=(12,7))\n",
    "ax = fig.gca(projection='3d')\n",
    "\n",
    "df = pd.DataFrame()\n",
    "for particle_tracing in pwb:\n",
    "    a = pd.DataFrame(particle_tracing)\n",
    "    \n",
    "    df = df.append(a)\n",
    "\n",
    "ax.scatter(df.x,df.y,df.z,c=df.time)\n",
    "plt.colorbar(g)\n",
    "plt.xlim(0,100)\n",
    "plt.ylim(0,100)\n"
   ]
  },
  {
   "cell_type": "code",
   "execution_count": null,
   "metadata": {},
   "outputs": [],
   "source": []
  },
  {
   "cell_type": "code",
   "execution_count": 58,
   "metadata": {},
   "outputs": [],
   "source": []
  },
  {
   "cell_type": "code",
   "execution_count": null,
   "metadata": {},
   "outputs": [],
   "source": []
  }
 ],
 "metadata": {
  "kernelspec": {
   "display_name": "Python 3",
   "language": "python",
   "name": "python3"
  },
  "language_info": {
   "codemirror_mode": {
    "name": "ipython",
    "version": 3
   },
   "file_extension": ".py",
   "mimetype": "text/x-python",
   "name": "python",
   "nbconvert_exporter": "python",
   "pygments_lexer": "ipython3",
   "version": "3.8.3"
  }
 },
 "nbformat": 4,
 "nbformat_minor": 4
}
