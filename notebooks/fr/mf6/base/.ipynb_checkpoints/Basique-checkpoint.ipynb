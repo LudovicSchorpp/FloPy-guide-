{
 "cells": [
  {
   "cell_type": "markdown",
   "metadata": {},
   "source": [
    "## Notebook : Base de Flopy"
   ]
  },
  {
   "cell_type": "markdown",
   "metadata": {},
   "source": [
    "Ce notebook (un peu redondant) va donner les bases pour comprendre comment fonctionne un modèle flopy/modflow. Y sont donc décrit la structure basique d'un code flopy, les fichiers modflow, etc. "
   ]
  },
  {
   "cell_type": "markdown",
   "metadata": {},
   "source": [
    "### Un peu de blabla\n",
    "\n",
    "#### MODFLOW est un logiciel libre de simulation d'écoulements en FDM, développé par l'USGS et largement utilisé mondialement. Il fonctionne sur la base de différents fichiers définissant ensemble un modèle d'écoulement numérique (chacun un aspect particulier : un fichier pour la discrétisation, un pour les charges imposées, etc.). Une particularité de MODFLOW est d'utiliser des packages très différents pour chaque feature hydrogéologie (un package pour les rivières RIV, un pour les drains DRN, etc.)\n",
    "\n",
    "#### Flopy est une interface pour MODFLOW et ses différentes versions, permettant d'y créer les fichiers de simulation et de les executer depuis python. Cela permet de gagner en efficacité, reproductibitilité, précision et automatisation des modèles. On va voir donc ici comment générer ces fichiers et créer un modèle très simple pour tout d'abord voir quels sont les modules minimum à avoir."
   ]
  },
  {
   "cell_type": "markdown",
   "metadata": {},
   "source": [
    "Il est d'abord nécessaire d'installer flopy via pip ou conda puis de l'importer"
   ]
  },
  {
   "cell_type": "code",
   "execution_count": 1,
   "metadata": {},
   "outputs": [
    {
     "name": "stdout",
     "output_type": "stream",
     "text": [
      "flopy is installed in C:\\Users\\emmal\\anaconda3\\lib\\site-packages\\flopy\n"
     ]
    }
   ],
   "source": [
    "import flopy\n",
    "import numpy as np\n",
    "import pandas as pd\n",
    "import matplotlib.pyplot as plt\n",
    "import os\n",
    "import sys"
   ]
  },
  {
   "cell_type": "markdown",
   "metadata": {},
   "source": [
    "Ensuite on va définir quelques variables très importantes :\n",
    "\n",
    "- workspace : le répertoire dans lequel tous les fichiers vont être mis (s'il n'existe pas déjà il sera créé)\n",
    "- modelname : Le nom du modèle et qui servira plus généralement de base tous les noms de fichiers\n",
    "- exe_name   : le chemin (relatif ou absolu) vers l'executable modflow 6"
   ]
  },
  {
   "cell_type": "code",
   "execution_count": 12,
   "metadata": {},
   "outputs": [],
   "source": [
    "workspace = \"workspace\"\n",
    "modelname = \"Basique\"\n",
    "exe_name= \"../../../../exe/mf6.exe\""
   ]
  },
  {
   "cell_type": "markdown",
   "metadata": {},
   "source": [
    "Voyons donc maintenant les modules fondamentaux : les différents éléments à créer pour définir notre simulation et modèle : \n",
    "- Modules de bases modflow 6\n",
    "- Discrétisation spatiale\n",
    "- Discrétisation temporelle\n",
    "- Solver (la résolution du problème si vous voulez)\n",
    "- Conditions initiales\n",
    "- Propriétés hydrauliques\n"
   ]
  },
  {
   "cell_type": "markdown",
   "metadata": {},
   "source": [
    "### SIM et GWF"
   ]
  },
  {
   "cell_type": "markdown",
   "metadata": {},
   "source": [
    "Les 2 premiers modules indispensables sont celui de simulation et de modèle. \n",
    "- La simulation est le corps central de tout code en modflow 6 et permet de faire des liens entre plusieurs modèles hydro\n",
    "- Le modèle hydro est tout aussi important et va servir de tronc commun aux autres fichiers/modules"
   ]
  },
  {
   "cell_type": "code",
   "execution_count": 13,
   "metadata": {},
   "outputs": [],
   "source": [
    "# Modules de bases\n",
    "sim = flopy.mf6.MFSimulation(sim_name='Basique', version='mf6', exe_name=exe_name, sim_ws=workspace)\n",
    "gwf = flopy.mf6.ModflowGwf(sim, modelname=modelname, model_nam_file='{}.nam'.format(modelname))"
   ]
  },
  {
   "cell_type": "markdown",
   "metadata": {},
   "source": [
    "Ces deux lignes créent donc une simulation et un modèle hydro associé (plusieurs modèles peuvent être attribués à une simulation). Ces lignes servent surtout à poser les bases de la simulation et le nom qu'auront les différents fichiers\n",
    "\n",
    "Pour le moment notre modèle \"gwf\" n'a pas grand intérêt car il n'a pas encore été décrit"
   ]
  },
  {
   "cell_type": "markdown",
   "metadata": {},
   "source": [
    "### DIS\n",
    "\n",
    "MOODFLOW 6 propose plusieurs packages pour discrétiser un modèle mais nous allons utiliser le basique \"DIS\" qui permet de réaliser des grilles structurées."
   ]
  },
  {
   "cell_type": "code",
   "execution_count": 14,
   "metadata": {},
   "outputs": [],
   "source": [
    "dis = flopy.mf6.ModflowGwfdis(gwf,nlay=1,nrow=10,ncol=10,\n",
    "                              delr=1,delc=1,\n",
    "                              top=1,botm=0)"
   ]
  },
  {
   "cell_type": "markdown",
   "metadata": {},
   "source": [
    "La ligne ci-dessus discrétise donc notre modèle \"gwf\" en un domaine de 10 col sur 10 lignes avec une résolution de 1. Pour discrétiser avec \"DIS\" il faut (au minimum) impérativement:\n",
    "- un nombre de couches/lignes/colonnes --> **nlay, nrow, ncol**\n",
    "- une résolution en \"r\" et en \"c\" (faisant référence à la résolution en direction ligne pour r (row) et direction colonne pour c) --> **delr et delc** (image ci-dessous)\n",
    "- l'altitude du top du modèle --> **top**\n",
    "- l'altitude de la base du modèle (et des différentes couches si en 3D) --> **botm**"
   ]
  },
  {
   "attachments": {
    "image.png": {
     "image/png": "[encoded data removed]"
    }
   },
   "cell_type": "markdown",
   "metadata": {},
   "source": [
    "![image.png](attachment:image.png)"
   ]
  },
  {
   "cell_type": "markdown",
   "metadata": {},
   "source": [
    "delr et delc peuvent être décrit avec un simple nombre (si espacement régulier) ou un array\n",
    "\n",
    "top et botm peuvent être fournis comme un simple nombre (si les surfaces sont constantes) ou avec une liste de taille (nrow, ncol) pour top et (nlay,nrow,ncol) pour botm\n",
    "\n",
    "#### Plus de détails dans le notebook dédié à la discrétisation"
   ]
  },
  {
   "cell_type": "markdown",
   "metadata": {},
   "source": [
    "### TDIS"
   ]
  },
  {
   "cell_type": "code",
   "execution_count": 15,
   "metadata": {},
   "outputs": [],
   "source": [
    "perlen = 1 # longueur de la période 1\n",
    "nstp = 1 # nombre de pas de temps p1\n",
    "tmult = 1 # multiplicateur de pas de temps p1\n",
    "perlen2 = 1 # longueur de la période 2\n",
    "nstp2 = 1 # nombre de pas de temps p2\n",
    "tmult2 = 1 # multiplicateur de pas de temps p2\n",
    "\n",
    "perioddata=[[perlen,nstp,tmult],[perlen2,nstp2,tmult2]] \n",
    "tdis = flopy.mf6.ModflowTdis(sim, time_units='SECONDS',perioddata=perioddata,nper=2)"
   ]
  },
  {
   "cell_type": "markdown",
   "metadata": {},
   "source": [
    "#### Le package de discrétisation temporelle permet de régler le temps de votre modèle. Dans MODFLOW le temps se sépare en plusieurs *stress period* qui eux mêmes sont subdivisés en plusieurs pas de temps.\n",
    "\n",
    "Pour faire simple les stress period correspondent à des changements dans les conditions limites du modèle. Il est ainsi possible d'activer un puit entre les période 1 à 3, puis de le retirer pour les suivantes etc. *Des tas d'autres options sont possibles*\n",
    "\n",
    "On définit le nombre de stress period avec **nper** \\n Donc pour créer notre package TDIS, il nous faut lui spécifier la longueur de chaque *stress period* **perlen**, le nombre de pas de temps à la dite période **nstp** et un multiplicateur de temps entre chaque pas de temps **tmult**.\n",
    "\n",
    "Pour un écoulement simple en permanent, ces 3 paramètres valent **1**\n",
    "\n",
    "**Plus de détails dans le notebook sur les écoulements en transitoire**\n",
    "\n",
    "### Un point important concernat les *unités* : Le choix des unités est peu important mais par contre il faut toujours utiliser  les MEMES unités pour TOUS les inputs du modèle (discrétisation en m et temps en secondes --> débits de prélèvements en m/s, etc.)"
   ]
  },
  {
   "cell_type": "markdown",
   "metadata": {},
   "source": [
    "### Solver"
   ]
  },
  {
   "cell_type": "code",
   "execution_count": 16,
   "metadata": {},
   "outputs": [],
   "source": [
    "ims  = flopy.mf6.ModflowIms(sim, print_option='SUMMARY', complexity=\"simple\")"
   ]
  },
  {
   "cell_type": "markdown",
   "metadata": {},
   "source": [
    "Le solver va résoudre la matrice d'écoulement. En général pour ne pas se prendre la tête on ne choisit que le paramètre complexity qui a 3 possibilités **simple**, **moderate**, **complex**\n",
    "\n",
    "print_option indique comment on souhaite avoir les détails de la résolution de l'équation dans le fichier de sortie"
   ]
  },
  {
   "cell_type": "markdown",
   "metadata": {},
   "source": [
    "### Conditions initiales"
   ]
  },
  {
   "cell_type": "code",
   "execution_count": 17,
   "metadata": {},
   "outputs": [],
   "source": [
    "ic   = flopy.mf6.ModflowGwfic(gwf,strt=1)"
   ]
  },
  {
   "cell_type": "markdown",
   "metadata": {},
   "source": [
    "Les conditions initiales définisse la valeur de charge au début de la simulation et ne requiert en input qu'une liste de nombre (de la taille du modèle) ou un nombre unique.\n",
    "\n",
    "On définit cette valeur sur la variable **strt**, ici on la met à 1 pour tout le modèle"
   ]
  },
  {
   "cell_type": "markdown",
   "metadata": {},
   "source": [
    "### Propriétés hydrau"
   ]
  },
  {
   "cell_type": "code",
   "execution_count": 18,
   "metadata": {},
   "outputs": [],
   "source": [
    "k = 1e-4\n",
    "npf  = flopy.mf6.ModflowGwfnpf(gwf, icelltype=0, k=k,save_flows=True)"
   ]
  },
  {
   "cell_type": "markdown",
   "metadata": {},
   "source": [
    "Le package qui permet de définir nos paramères hydrogéologiques est le \"NPF\". On peut y définir le kxx, kyy, kzz (k,k22,k33 respectivement dans le module NPF) et les angles d'anisotropie pour chaque cellule.\n",
    "\n",
    "- icelltype : Définit le type de cellule, 1 convertible (libre) et 0 non-convertible (confiné)\n",
    "- k : la perméabilité des cellules. En général sous forme de liste\n",
    "- save_flows: Enregistrer les flux afin de les post-processer ensuite\n",
    "\n",
    "Pleins d'autres options sont diponibles"
   ]
  },
  {
   "cell_type": "markdown",
   "metadata": {},
   "source": [
    "Nous avons donc un modèle pratiquement complet. Nous avons en effet tous les packages requis pour le faire tourner. Il manque cependant certaines choses majeures comme les conditions limites et **surtout** les fichiers de sorties !"
   ]
  },
  {
   "cell_type": "markdown",
   "metadata": {},
   "source": [
    "Car oui par défaut MODFLOW ne va pratiquement rien vous sortir comme fichier de résultat. Il faut pour cela lui indiquer que ce vous attendez lui (tout de même...).\n",
    "\n",
    "On va donc créer l'*output control*"
   ]
  },
  {
   "cell_type": "code",
   "execution_count": 19,
   "metadata": {},
   "outputs": [],
   "source": [
    "oc = flopy.mf6.ModflowGwfoc(gwf,budget_filerecord='{}.cbc'.format(modelname),#nom du fichier budget \n",
    "                            head_filerecord='{}.hds'.format(modelname),# nom du fichier des charges \n",
    "                            saverecord=[('HEAD', 'LAST'), \n",
    "                                        ('BUDGET', 'LAST')],\n",
    "                            printrecord=[('BUDGET', 'ALL')])"
   ]
  },
  {
   "cell_type": "markdown",
   "metadata": {},
   "source": [
    "Les points à retenir sont les suivants :\n",
    "- budget_filerecord : Il s'agit du nom du fichier contenant les infos de budget du modèle\n",
    "- head_filerecord : Il s'agit du nom du fichier contenant les charges calculés du modèle\n",
    "- saverecord : indiquer qu'est ce qu'on va enregistrer et quand. Ici le mot \"LAST\" indique qu'on enregistre les charges et le budget uniquement au dernier pas de temps de chaque *stress period*. Le mot \"ALL\" indique que chaque pas de temps est enregistré.\n",
    "- printrecord : indiquer ce qu'on l'on va afficher dans le fichier de sortie LST, ici on fait afficher tous les infos de budget et ce à chaque pas de temps"
   ]
  },
  {
   "cell_type": "markdown",
   "metadata": {},
   "source": [
    "Maintenant on est bon pour lancer notre modèle"
   ]
  },
  {
   "cell_type": "markdown",
   "metadata": {},
   "source": [
    "Pour lancer la simulation il faut d'abord \"écrire\" les fichiers qu'on l'a créé précèdemment. Heureusement cette étape est très facile :"
   ]
  },
  {
   "cell_type": "code",
   "execution_count": 20,
   "metadata": {},
   "outputs": [
    {
     "name": "stdout",
     "output_type": "stream",
     "text": [
      "writing simulation...\n",
      "  writing simulation name file...\n",
      "  writing simulation tdis package...\n",
      "  writing ims package ims_-1...\n",
      "  writing model Basique...\n",
      "    writing model name file...\n",
      "    writing package dis...\n",
      "    writing package ic...\n",
      "    writing package npf...\n",
      "    writing package oc...\n"
     ]
    }
   ],
   "source": [
    "sim.write_simulation()"
   ]
  },
  {
   "cell_type": "markdown",
   "metadata": {},
   "source": [
    "Et on run !"
   ]
  },
  {
   "cell_type": "code",
   "execution_count": 21,
   "metadata": {},
   "outputs": [
    {
     "name": "stdout",
     "output_type": "stream",
     "text": [
      "FloPy is using the following  executable to run the model: ../../../../exe/mf6.exe\n",
      "                                   MODFLOW 6\n",
      "                U.S. GEOLOGICAL SURVEY MODULAR HYDROLOGIC MODEL\n",
      "                            VERSION 6.0.4 03/13/2019\n",
      "\n",
      "   MODFLOW 6 compiled Mar 21 2019 15:37:31 with IFORT compiler (ver. 19.0.0)\n",
      "\n",
      "This software has been approved for release by the U.S. Geological \n",
      "Survey (USGS). Although the software has been subjected to rigorous \n",
      "review, the USGS reserves the right to update the software as needed \n",
      "pursuant to further analysis and review. No warranty, expressed or \n",
      "implied, is made by the USGS or the U.S. Government as to the \n",
      "functionality of the software and related material nor shall the \n",
      "fact of release constitute any such warranty. Furthermore, the \n",
      "software is released on condition that neither the USGS nor the U.S. \n",
      "Government shall be held liable for any damages resulting from its \n",
      "authorized or unauthorized use. Also refer to the USGS Water \n",
      "Resources Software User Rights Notice for complete use, copyright, \n",
      "and distribution information.\n",
      "\n",
      " Run start date and time (yyyy/mm/dd hh:mm:ss): 2020/10/11 10:16:44\n",
      "\n",
      " Writing simulation list file: mfsim.lst\n",
      " Using Simulation name file: mfsim.nam\n",
      " Solving:  Stress period:     1    Time step:     1\n",
      " Solving:  Stress period:     2    Time step:     1\n",
      " Run end date and time (yyyy/mm/dd hh:mm:ss): 2020/10/11 10:16:45\n",
      " Elapsed run time:  0.125 Seconds\n",
      "\n",
      " Normal termination of simulation.\n"
     ]
    },
    {
     "data": {
      "text/plain": [
       "(True, [])"
      ]
     },
     "execution_count": 21,
     "metadata": {},
     "output_type": "execute_result"
    }
   ],
   "source": [
    "sim.run_simulation()"
   ]
  },
  {
   "cell_type": "markdown",
   "metadata": {},
   "source": [
    "Voilà C'est fait !\n",
    "Si vous allez regarder dans le workspace vous allez trouver un fichier .lst, un .hds et un .cbc qui représentent les fichiers de sorties. Si l'on souhaite regarder les charges on peut utiliser les lignes suivantes :"
   ]
  },
  {
   "cell_type": "code",
   "execution_count": 12,
   "metadata": {},
   "outputs": [
    {
     "data": {
      "text/plain": [
       "<matplotlib.colorbar.Colorbar at 0x1fcac0af1c8>"
      ]
     },
     "execution_count": 12,
     "metadata": {},
     "output_type": "execute_result"
    },
    {
     "data": {
      "image/png": "[encoded data removed]",
      "text/plain": [
       "<Figure size 432x288 with 2 Axes>"
      ]
     },
     "metadata": {
      "needs_background": "light"
     },
     "output_type": "display_data"
    }
   ],
   "source": [
    "headfile = '{}.hds'.format(modelname)\n",
    "fname = os.path.join(workspace,headfile)    \n",
    "hdobj = flopy.utils.HeadFile(fname, precision='double') \n",
    "head  = hdobj.get_data(totim=1) # on charge les charges au temps 1 (on peut également spécifier l)\n",
    "\n",
    "plt.imshow(head[0])\n",
    "plt.colorbar()"
   ]
  },
  {
   "cell_type": "markdown",
   "metadata": {},
   "source": [
    "C'est tout? Ben oui... car on a mis aucune condition limite :p (Voir le notebook sur les BCs)\n",
    "\n",
    "Mais vous savez à présent comment faire tourner le modèle le plus simple possible et sans qu'il plante ! (c'est un bon début)\n",
    "Donc oui c'est fini"
   ]
  },
  {
   "cell_type": "markdown",
   "metadata": {},
   "source": [
    "P.S: De manière général Flopy c'est pas simple et tout n'est pas hyper expliqué mais quand on ne sait pas où chercher une info la première chose à faire est d'aller là :\n",
    "http://modflowpy.github.io/flopydoc/"
   ]
  }
 ],
 "metadata": {
  "kernelspec": {
   "display_name": "Python 3",
   "language": "python",
   "name": "python3"
  },
  "language_info": {
   "codemirror_mode": {
    "name": "ipython",
    "version": 3
   },
   "file_extension": ".py",
   "mimetype": "text/x-python",
   "name": "python",
   "nbconvert_exporter": "python",
   "pygments_lexer": "ipython3",
   "version": "3.8.3"
  }
 },
 "nbformat": 4,
 "nbformat_minor": 2
}
